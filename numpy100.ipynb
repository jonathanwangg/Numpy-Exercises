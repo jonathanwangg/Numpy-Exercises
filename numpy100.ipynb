{
 "cells": [
  {
   "cell_type": "code",
   "execution_count": 2,
   "metadata": {
    "collapsed": true
   },
   "outputs": [],
   "source": [
    "# 1: Import the numpy package under the name np\n",
    "import numpy as np"
   ]
  },
  {
   "cell_type": "code",
   "execution_count": 7,
   "metadata": {},
   "outputs": [
    {
     "name": "stdout",
     "output_type": "stream",
     "text": [
      "1.13.3\n",
      "blas_mkl_info:\n",
      "    libraries = ['mkl_rt']\n",
      "    library_dirs = ['C:/Users/Jonathan/Anaconda3\\\\Library\\\\lib']\n",
      "    define_macros = [('SCIPY_MKL_H', None), ('HAVE_CBLAS', None)]\n",
      "    include_dirs = ['C:\\\\Program Files (x86)\\\\IntelSWTools\\\\compilers_and_libraries_2016.4.246\\\\windows\\\\mkl', 'C:\\\\Program Files (x86)\\\\IntelSWTools\\\\compilers_and_libraries_2016.4.246\\\\windows\\\\mkl\\\\include', 'C:\\\\Program Files (x86)\\\\IntelSWTools\\\\compilers_and_libraries_2016.4.246\\\\windows\\\\mkl\\\\lib', 'C:/Users/Jonathan/Anaconda3\\\\Library\\\\include']\n",
      "blas_opt_info:\n",
      "    libraries = ['mkl_rt']\n",
      "    library_dirs = ['C:/Users/Jonathan/Anaconda3\\\\Library\\\\lib']\n",
      "    define_macros = [('SCIPY_MKL_H', None), ('HAVE_CBLAS', None)]\n",
      "    include_dirs = ['C:\\\\Program Files (x86)\\\\IntelSWTools\\\\compilers_and_libraries_2016.4.246\\\\windows\\\\mkl', 'C:\\\\Program Files (x86)\\\\IntelSWTools\\\\compilers_and_libraries_2016.4.246\\\\windows\\\\mkl\\\\include', 'C:\\\\Program Files (x86)\\\\IntelSWTools\\\\compilers_and_libraries_2016.4.246\\\\windows\\\\mkl\\\\lib', 'C:/Users/Jonathan/Anaconda3\\\\Library\\\\include']\n",
      "lapack_mkl_info:\n",
      "    libraries = ['mkl_rt']\n",
      "    library_dirs = ['C:/Users/Jonathan/Anaconda3\\\\Library\\\\lib']\n",
      "    define_macros = [('SCIPY_MKL_H', None), ('HAVE_CBLAS', None)]\n",
      "    include_dirs = ['C:\\\\Program Files (x86)\\\\IntelSWTools\\\\compilers_and_libraries_2016.4.246\\\\windows\\\\mkl', 'C:\\\\Program Files (x86)\\\\IntelSWTools\\\\compilers_and_libraries_2016.4.246\\\\windows\\\\mkl\\\\include', 'C:\\\\Program Files (x86)\\\\IntelSWTools\\\\compilers_and_libraries_2016.4.246\\\\windows\\\\mkl\\\\lib', 'C:/Users/Jonathan/Anaconda3\\\\Library\\\\include']\n",
      "lapack_opt_info:\n",
      "    libraries = ['mkl_rt']\n",
      "    library_dirs = ['C:/Users/Jonathan/Anaconda3\\\\Library\\\\lib']\n",
      "    define_macros = [('SCIPY_MKL_H', None), ('HAVE_CBLAS', None)]\n",
      "    include_dirs = ['C:\\\\Program Files (x86)\\\\IntelSWTools\\\\compilers_and_libraries_2016.4.246\\\\windows\\\\mkl', 'C:\\\\Program Files (x86)\\\\IntelSWTools\\\\compilers_and_libraries_2016.4.246\\\\windows\\\\mkl\\\\include', 'C:\\\\Program Files (x86)\\\\IntelSWTools\\\\compilers_and_libraries_2016.4.246\\\\windows\\\\mkl\\\\lib', 'C:/Users/Jonathan/Anaconda3\\\\Library\\\\include']\n"
     ]
    }
   ],
   "source": [
    "# 2: Print the numpy version and the configuration\n",
    "print(np.__version__)\n",
    "np.show_config()"
   ]
  },
  {
   "cell_type": "code",
   "execution_count": 11,
   "metadata": {},
   "outputs": [
    {
     "name": "stdout",
     "output_type": "stream",
     "text": [
      "[ 0.  0.  0.  0.  0.  0.  0.  0.  0.  0.]\n"
     ]
    }
   ],
   "source": [
    "# 3: Create a null vector of size 10\n",
    "null_vector = np.zeros(10)\n",
    "print(null_vector)"
   ]
  },
  {
   "cell_type": "code",
   "execution_count": 16,
   "metadata": {},
   "outputs": [
    {
     "name": "stdout",
     "output_type": "stream",
     "text": [
      "Number of bytes is: 800\n"
     ]
    }
   ],
   "source": [
    "# 4: How to find the memory size of any array\n",
    "Z = np.zeros((10,10))\n",
    "size = Z.size * Z.itemsize\n",
    "print(\"Number of bytes is: \" + str(size))"
   ]
  },
  {
   "cell_type": "code",
   "execution_count": 17,
   "metadata": {},
   "outputs": [
    {
     "name": "stdout",
     "output_type": "stream",
     "text": [
      "add(x1, x2, /, out=None, *, where=True, casting='same_kind', order='K', dtype=None, subok=True[, signature, extobj])\n",
      "\n",
      "Add arguments element-wise.\n",
      "\n",
      "Parameters\n",
      "----------\n",
      "x1, x2 : array_like\n",
      "    The arrays to be added.  If ``x1.shape != x2.shape``, they must be\n",
      "    broadcastable to a common shape (which may be the shape of one or\n",
      "    the other).\n",
      "out : ndarray, None, or tuple of ndarray and None, optional\n",
      "    A location into which the result is stored. If provided, it must have\n",
      "    a shape that the inputs broadcast to. If not provided or `None`,\n",
      "    a freshly-allocated array is returned. A tuple (possible only as a\n",
      "    keyword argument) must have length equal to the number of outputs.\n",
      "where : array_like, optional\n",
      "    Values of True indicate to calculate the ufunc at that position, values\n",
      "    of False indicate to leave the value in the output alone.\n",
      "**kwargs\n",
      "    For other keyword-only arguments, see the\n",
      "    :ref:`ufunc docs <ufuncs.kwargs>`.\n",
      "\n",
      "Returns\n",
      "-------\n",
      "add : ndarray or scalar\n",
      "    The sum of `x1` and `x2`, element-wise.  Returns a scalar if\n",
      "    both  `x1` and `x2` are scalars.\n",
      "\n",
      "Notes\n",
      "-----\n",
      "Equivalent to `x1` + `x2` in terms of array broadcasting.\n",
      "\n",
      "Examples\n",
      "--------\n",
      ">>> np.add(1.0, 4.0)\n",
      "5.0\n",
      ">>> x1 = np.arange(9.0).reshape((3, 3))\n",
      ">>> x2 = np.arange(3.0)\n",
      ">>> np.add(x1, x2)\n",
      "array([[  0.,   2.,   4.],\n",
      "       [  3.,   5.,   7.],\n",
      "       [  6.,   8.,  10.]])\n"
     ]
    }
   ],
   "source": [
    "# 5: How to get the documentation of the numpy add function from the command line?\n",
    "np.info(np.add)"
   ]
  },
  {
   "cell_type": "code",
   "execution_count": 9,
   "metadata": {},
   "outputs": [
    {
     "name": "stdout",
     "output_type": "stream",
     "text": [
      "[ 0.  0.  0.  0.  1.  0.  0.  0.  0.  0.]\n"
     ]
    }
   ],
   "source": [
    "# 6: Create a null vector of size 10 but the fifth value which is 1\n",
    "vector_q6 = np.zeros(10)\n",
    "vector_q6[4] = 1\n",
    "print(vector_q6)"
   ]
  },
  {
   "cell_type": "code",
   "execution_count": 10,
   "metadata": {},
   "outputs": [
    {
     "name": "stdout",
     "output_type": "stream",
     "text": [
      "[ 10.  11.  12.  13.  14.  15.  16.  17.  18.  19.  20.  21.  22.  23.  24.\n",
      "  25.  26.  27.  28.  29.  30.  31.  32.  33.  34.  35.  36.  37.  38.  39.\n",
      "  40.  41.  42.  43.  44.  45.  46.  47.  48.  49.]\n",
      "[10 11 12 13 14 15 16 17 18 19 20 21 22 23 24 25 26 27 28 29 30 31 32 33 34\n",
      " 35 36 37 38 39 40 41 42 43 44 45 46 47 48 49]\n"
     ]
    }
   ],
   "source": [
    "# 7. Create a vector with values ranging from 10 to 49\n",
    "\n",
    "# My initial approach\n",
    "num_elements = 49 - 10 + 1\n",
    "vector_q7 = np.zeros(num_elements)\n",
    "for i in range(num_elements):\n",
    "    vector_q7[i] = i + 10\n",
    "\n",
    "print(vector_q7)\n",
    "\n",
    "# Utilizing NumPy methods\n",
    "vector_q7v2 = np.arange(10,50)\n",
    "print(vector_q7v2)"
   ]
  },
  {
   "cell_type": "code",
   "execution_count": 12,
   "metadata": {},
   "outputs": [
    {
     "name": "stdout",
     "output_type": "stream",
     "text": [
      "[10  9  8  7  6  5  4  3  2  1]\n"
     ]
    }
   ],
   "source": [
    "# 8. Reverse a vector (first element becomes last)\n",
    "vector_q8 = np.arange(1,11)\n",
    "vector_q8_reversed = np.flip(vector_q8, 0)\n",
    "print(vector_q8_reversed)"
   ]
  },
  {
   "cell_type": "code",
   "execution_count": 9,
   "metadata": {},
   "outputs": [
    {
     "name": "stdout",
     "output_type": "stream",
     "text": [
      "[0 1 2 3 4 5 6 7 8]\n",
      "[[0 1 2]\n",
      " [3 4 5]\n",
      " [6 7 8]]\n"
     ]
    }
   ],
   "source": [
    "# 9. Create a 3x3 matrix with values ranging from 0 to 8 (★☆☆)\n",
    "vector_q9 = np.arange(0,9)\n",
    "print(vector_q9)\n",
    "\n",
    "matrix_q9 = np.matrix(vector_q9).reshape(3,3)\n",
    "print(matrix_q9)"
   ]
  },
  {
   "cell_type": "code",
   "execution_count": 14,
   "metadata": {},
   "outputs": [
    {
     "name": "stdout",
     "output_type": "stream",
     "text": [
      "(array([0, 1, 4], dtype=int64),)\n"
     ]
    }
   ],
   "source": [
    "# 10. Find indices of non-zero elements from [1,2,0,0,4,0] (★☆☆)\n",
    "vector_q10 = [1, 2, 0, 0, 4, 0]\n",
    "result_q10 = np.nonzero(vector_q10)\n",
    "print(result_q10)"
   ]
  },
  {
   "cell_type": "code",
   "execution_count": 18,
   "metadata": {},
   "outputs": [
    {
     "name": "stdout",
     "output_type": "stream",
     "text": [
      "[[ 1.  0.  0.]\n",
      " [ 0.  1.  0.]\n",
      " [ 0.  0.  1.]]\n",
      "[[ 1.  0.  0.]\n",
      " [ 0.  1.  0.]\n",
      " [ 0.  0.  1.]]\n"
     ]
    }
   ],
   "source": [
    "# 11. Create a 3x3 identity matrix (★☆☆)\n",
    "matrix_q11 = np.identity(3)\n",
    "print(matrix_q11)\n",
    "\n",
    "# can also use np.eye\n",
    "matrix_q11_v2 = np.eye(3)\n",
    "print(matrix_q11_v2)"
   ]
  },
  {
   "cell_type": "code",
   "execution_count": 21,
   "metadata": {
    "scrolled": false
   },
   "outputs": [
    {
     "name": "stdout",
     "output_type": "stream",
     "text": [
      "[[[ 0.80910257  0.24096351  0.42480066]\n",
      "  [ 0.83175507  0.88352156  0.38430917]\n",
      "  [ 0.56773391  0.49617722  0.86019714]]\n",
      "\n",
      " [[ 0.90402516  0.90030788  0.51312781]\n",
      "  [ 0.43827137  0.49636101  0.63907195]\n",
      "  [ 0.09009431  0.27658974  0.35630275]]\n",
      "\n",
      " [[ 0.08030828  0.6819835   0.67890131]\n",
      "  [ 0.31789234  0.39727105  0.78677678]\n",
      "  [ 0.27498073  0.16345308  0.80339986]]]\n",
      "[[[ 0.14970146  0.48598253  0.93833039]\n",
      "  [ 0.33206451  0.62058869  0.13797723]\n",
      "  [ 0.83676247  0.23878651  0.01027566]]\n",
      "\n",
      " [[ 0.5929231   0.48251987  0.69701446]\n",
      "  [ 0.00620826  0.51793023  0.5195254 ]\n",
      "  [ 0.74644882  0.28111726  0.22399814]]\n",
      "\n",
      " [[ 0.56858892  0.22326253  0.21300308]\n",
      "  [ 0.80350613  0.03745843  0.49527634]\n",
      "  [ 0.96148312  0.2195392   0.46434224]]]\n"
     ]
    }
   ],
   "source": [
    "# 12. Create a 3x3x3 array with random values (★☆☆)\n",
    "matrix_q12 = np.random.random((3,3,3))\n",
    "print(matrix_q12)\n",
    "\n",
    "# lets try the other \"random\" method\n",
    "# Difference is due to different distribution of values\n",
    "matrix_q12_v2 = np.random.random_sample((3,3,3))\n",
    "print(matrix_q12_v2)"
   ]
  },
  {
   "cell_type": "code",
   "execution_count": 26,
   "metadata": {},
   "outputs": [
    {
     "name": "stdout",
     "output_type": "stream",
     "text": [
      "[[ 0.75718453  0.29845997  0.02714191  0.08340639  0.26204898  0.27589492\n",
      "   0.33012986  0.25389114  0.1250062   0.82427293]\n",
      " [ 0.74613725  0.36060123  0.07893807  0.71678716  0.54966821  0.96323204\n",
      "   0.98739353  0.8996259   0.49974503  0.69425737]\n",
      " [ 0.29036658  0.58060489  0.93701004  0.60168182  0.98382356  0.11625995\n",
      "   0.27405714  0.9545247   0.505395    0.47175753]\n",
      " [ 0.81829232  0.28525687  0.60756334  0.03925809  0.51564935  0.42981101\n",
      "   0.5722672   0.83499591  0.90948841  0.82447584]\n",
      " [ 0.77887719  0.70749111  0.68329956  0.37828839  0.25000173  0.28618789\n",
      "   0.34231949  0.0032188   0.54063062  0.75749474]\n",
      " [ 0.4594221   0.81431904  0.49258477  0.9492174   0.96758374  0.30142264\n",
      "   0.9614767   0.24831949  0.52226349  0.8312987 ]\n",
      " [ 0.72636821  0.72340201  0.97912442  0.00846998  0.57239352  0.27895537\n",
      "   0.40512313  0.51325494  0.79168757  0.43596469]\n",
      " [ 0.73985733  0.03932933  0.61270736  0.41564639  0.38910294  0.58837413\n",
      "   0.08546571  0.18422218  0.04050838  0.75945481]\n",
      " [ 0.74058638  0.52511641  0.77921227  0.93452842  0.7699363   0.16165699\n",
      "   0.95296176  0.14816264  0.6212836   0.37307924]\n",
      " [ 0.70844973  0.72667074  0.86158016  0.23613956  0.79471237  0.66653114\n",
      "   0.56504881  0.00626785  0.34014067  0.76223808]]\n",
      "0.987393530414\n",
      "0.00321880340244\n",
      "0.987393530414\n",
      "0.00321880340244\n"
     ]
    }
   ],
   "source": [
    "# 13. Create a 10x10 array with random values and find the minimum and maximum values (★☆☆)\n",
    "matrix_q13 = np.random.random((10,10))\n",
    "print(matrix_q13)\n",
    "\n",
    "max_value_q13 = np.amax(matrix_q13)\n",
    "print(max_value_q13)\n",
    "\n",
    "min_value_q13 = np.amin(matrix_q13)\n",
    "print(min_value_q13)\n",
    "\n",
    "# The min and max functions should be the same as the below\n",
    "max_value_q13_v2 = matrix_q13.max()\n",
    "print(max_value_q13_v2)\n",
    "\n",
    "min_value_q13_v2 = matrix_q13.min()\n",
    "print(min_value_q13_v2)"
   ]
  },
  {
   "cell_type": "code",
   "execution_count": 30,
   "metadata": {},
   "outputs": [
    {
     "name": "stdout",
     "output_type": "stream",
     "text": [
      "0.485741321423\n"
     ]
    }
   ],
   "source": [
    "# 14. Create a random vector of size 30 and find the mean value (★☆☆)\n",
    "vector_q14 = np.random.random(14)\n",
    "vector_q14_mean = vector_q14.mean()\n",
    "print(vector_q14_mean)"
   ]
  },
  {
   "cell_type": "code",
   "execution_count": 36,
   "metadata": {},
   "outputs": [
    {
     "name": "stdout",
     "output_type": "stream",
     "text": [
      "[[ 1.  1.  1.  1.  1.]\n",
      " [ 1.  1.  1.  1.  1.]\n",
      " [ 1.  1.  1.  1.  1.]\n",
      " [ 1.  1.  1.  1.  1.]\n",
      " [ 1.  1.  1.  1.  1.]]\n",
      "[[ 1.  1.  1.  1.  1.]\n",
      " [ 1.  0.  0.  0.  1.]\n",
      " [ 1.  0.  0.  0.  1.]\n",
      " [ 1.  0.  0.  0.  1.]\n",
      " [ 1.  1.  1.  1.  1.]]\n"
     ]
    }
   ],
   "source": [
    "# 15. Create a 2d array with 1 on the border and 0 inside (★☆☆)\n",
    "n = 5\n",
    "d = 5\n",
    "\n",
    "matrix_q15 = np.ones((n,d))\n",
    "print(matrix_q15)\n",
    "\n",
    "matrix_q15[1:-1, 1:-1] = 0\n",
    "print(matrix_q15)"
   ]
  },
  {
   "cell_type": "code",
   "execution_count": 46,
   "metadata": {},
   "outputs": [
    {
     "name": "stdout",
     "output_type": "stream",
     "text": [
      "[[ 0.          0.          0.          0.        ]\n",
      " [ 0.          0.4171355   0.34446739  0.        ]\n",
      " [ 0.          0.73036882  0.18156937  0.        ]\n",
      " [ 0.          0.          0.          0.        ]]\n",
      "[[ 0.          0.          0.          0.          0.          0.        ]\n",
      " [ 0.          0.57574711  0.68744169  0.881312    0.04368236  0.        ]\n",
      " [ 0.          0.66699556  0.89842223  0.0353257   0.23487434  0.        ]\n",
      " [ 0.          0.76762928  0.31675888  0.78220649  0.04065184  0.        ]\n",
      " [ 0.          0.15159785  0.62926247  0.18780962  0.86772998  0.        ]\n",
      " [ 0.          0.          0.          0.          0.          0.        ]]\n"
     ]
    }
   ],
   "source": [
    "# 16. How to add a border (filled with 0's) around an existing array? (★☆☆)\n",
    "n = 4\n",
    "d = 4\n",
    "\n",
    "matrix_q16 = np.random.random((n,d))\n",
    "\n",
    "# This was my \"manual\" way of doing it\n",
    "matrix_q16[0,1:-1] = 0\n",
    "matrix_q16[n-1,1:-1] = 0\n",
    "matrix_q16[0:n,0] = 0\n",
    "matrix_q16[0:n, d-1]= 0\n",
    "print(matrix_q16)\n",
    "\n",
    "# Utiliizing numpy, we can do:\n",
    "matrix_q16_v2 = np.pad(matrix_q16_v2, pad_width=1, mode='constant', constant_values=0)\n",
    "print(after_pad)"
   ]
  },
  {
   "cell_type": "code",
   "execution_count": 47,
   "metadata": {},
   "outputs": [
    {
     "name": "stdout",
     "output_type": "stream",
     "text": [
      "nan\n",
      "False\n",
      "False\n",
      "nan\n",
      "False\n"
     ]
    }
   ],
   "source": [
    "# 17. What is the result of the following expression? (★☆☆)\n",
    "# 0 * np.nan\n",
    "# np.nan == np.nan\n",
    "# np.inf > np.nan\n",
    "# np.nan - np.nan\n",
    "# 0.3 == 3 * 0.1\n",
    "\n",
    "# The results are\n",
    "# nan\n",
    "# false\n",
    "# false\n",
    "# nan\n",
    "# true # This one is special because ******************************************************************************** TODO\n",
    "\n",
    "print(0 * np.nan)\n",
    "print(np.nan == np.nan)\n",
    "print(np.inf > np.nan)\n",
    "print(np.nan - np.nan)\n",
    "print(0.3 == 3 * 0.1)"
   ]
  },
  {
   "cell_type": "code",
   "execution_count": 52,
   "metadata": {},
   "outputs": [
    {
     "name": "stdout",
     "output_type": "stream",
     "text": [
      "[[ 0.  0.  0.  0.  0.]\n",
      " [ 0.  0.  0.  0.  0.]\n",
      " [ 0.  0.  0.  0.  0.]\n",
      " [ 0.  0.  0.  0.  0.]\n",
      " [ 0.  0.  0.  0.  0.]]\n",
      "[1 2 3 4]\n",
      "[[0 0 0 0 0]\n",
      " [1 0 0 0 0]\n",
      " [0 2 0 0 0]\n",
      " [0 0 3 0 0]\n",
      " [0 0 0 4 0]]\n"
     ]
    }
   ],
   "source": [
    "# 18. Create a 5x5 matrix with values 1,2,3,4 just below the diagonal (★☆☆)\n",
    "matrix_q18 = np.zeros((5,5))\n",
    "vector_q18 = np.arange(1,5)\n",
    "\n",
    "matrix_q18 = np.diag(vector_q18, k=-1)\n",
    "\n",
    "print(matrix_q18)\n",
    "\n",
    "# Found out that np.diag() is for constructing a diagonal and np.diagonal() is for extracting diagonal values"
   ]
  }
 ],
 "metadata": {
  "kernelspec": {
   "display_name": "Python 3",
   "language": "python",
   "name": "python3"
  },
  "language_info": {
   "codemirror_mode": {
    "name": "ipython",
    "version": 3
   },
   "file_extension": ".py",
   "mimetype": "text/x-python",
   "name": "python",
   "nbconvert_exporter": "python",
   "pygments_lexer": "ipython3",
   "version": "3.6.3"
  }
 },
 "nbformat": 4,
 "nbformat_minor": 2
}
